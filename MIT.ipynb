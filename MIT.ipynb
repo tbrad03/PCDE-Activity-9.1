{
 "cells": [
  {
   "cell_type": "markdown",
   "metadata": {},
   "source": [
    "# The Massachusetts Institute of Technology (MIT)\n",
    "\n",
    "**Todd Bradley, https://github.com/tbrad03**\n",
    "\n",
    "The Massachusetts Institute of Technology (MIT) is a private university in Cambridge, Massechusetts. Established in 1861, MIT has since then been at the center of the development of modern technology and science. Since it was founded, MIT has been ranked among the top academic institutions in the world.\n",
    "\n",
    "The official seal of MIT was adopted on December 26, 1864 in a design recommended by the Committee on the Seal, a committee established in 1863, with President William Barton Rogers and the Treasurer of the Institute as members. The Corporation minutes cover only the appointment of the committee and the approval of the seal; there are no records about the deliberations that led to the choice of a design, so we can only speculate. The seal represents two figures symbolizing the fields of Science and Art. The image below displays the original logo.\n",
    "\n",
    "\n",
    "![MIT Seal](mit-seal_400x400-300x300.gif)"
   ]
  },
  {
   "cell_type": "code",
   "execution_count": null,
   "metadata": {},
   "outputs": [],
   "source": []
  }
 ],
 "metadata": {
  "kernelspec": {
   "display_name": "Python 3",
   "language": "python",
   "name": "python3"
  },
  "language_info": {
   "codemirror_mode": {
    "name": "ipython",
    "version": 3
   },
   "file_extension": ".py",
   "mimetype": "text/x-python",
   "name": "python",
   "nbconvert_exporter": "python",
   "pygments_lexer": "ipython3",
   "version": "3.9.7"
  }
 },
 "nbformat": 4,
 "nbformat_minor": 4
}
